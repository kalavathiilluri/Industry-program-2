{
 "cells": [
  {
   "cell_type": "code",
   "execution_count": 18,
   "id": "2da17f4b-2ede-40b0-9baf-6b044ba80279",
   "metadata": {},
   "outputs": [
    {
     "name": "stdin",
     "output_type": "stream",
     "text": [
      "enter the sales: 25000\n"
     ]
    },
    {
     "name": "stdout",
     "output_type": "stream",
     "text": [
      "300.09\n"
     ]
    }
   ],
   "source": [
    "#33. Write a program to calculate the monthly income of a person using the following commission schedule:\n",
    "#Monthly sales income\n",
    "#>= Rs.50,000 Rs.375 + 16% sales.\n",
    "#<= Rs.50,000 but >=Rs.40,000 Rs. 350+14% sales.\n",
    "#<= Rs.40,000 but >=Rs.30,000 Rs. 325+12% sales.\n",
    "#<= Rs.30,000 but >=Rs.20,000 Rs. 30 0+9% sales.\n",
    "#<= Rs.20,000 but >=Rs.10,000 Rs. 250+5% sales.\n",
    "#<= Rs.10,000 Rs. 200+3% sale.\n",
    "\n",
    "sales = int(input(\"enter the sales:\"))\n",
    "salary = 0\n",
    "if sales >= 50000:\n",
    "    salary = 375 + ((16/100) + salary)\n",
    "elif sales <= 50000 and sales >= 40000:\n",
    "    salary = 350 + ((14/100) + salary)\n",
    "elif sales <= 40000 and sales >= 30000:\n",
    "    salary = 325 + ((12/100) + salary)\n",
    "elif sales <= 30000 and sales >= 20000:\n",
    "    salary = 300 + ((9/100) + salary)\n",
    "elif sales <= 20000 and sales >= 10000:\n",
    "    salary = 250 + (5/100 + salary)\n",
    "else:\n",
    "    salary = 200 + ((3/100) + salary)\n",
    "print(salary)"
   ]
  },
  {
   "cell_type": "code",
   "execution_count": 43,
   "id": "726a0566-aa6e-4181-a5bf-e4221f506778",
   "metadata": {},
   "outputs": [
    {
     "name": "stdin",
     "output_type": "stream",
     "text": [
      "enter the n value: 253\n"
     ]
    },
    {
     "name": "stdout",
     "output_type": "stream",
     "text": [
      " middle digit is numerically equal\n"
     ]
    }
   ],
   "source": [
    "#34. Write a program to read a 3-digit number and find whether the middle digit is \n",
    "#numerically equal to the sum of the other two digits and prints an appropriate response.\n",
    "\n",
    "n = int(input(\"enter the n value:\"))\n",
    "k = n % 10\n",
    "k1 = (n // 10)\n",
    "k2 = k1 % 10\n",
    "k3 = (k1 // 10)\n",
    "if k2 == k + k3:\n",
    "    print(\" middle digit is numerically equal\")\n",
    "else:\n",
    "    print(\" middle digit is not numerically equal \")"
   ]
  },
  {
   "cell_type": "code",
   "execution_count": 54,
   "id": "1098480e-afcc-40ee-8475-6b39ff21173a",
   "metadata": {},
   "outputs": [
    {
     "name": "stdin",
     "output_type": "stream",
     "text": [
      "enter the marital_status[m/u]: u\n",
      "enter the gender[m/fm]: m\n",
      "enter the age: 28\n"
     ]
    },
    {
     "name": "stdout",
     "output_type": "stream",
     "text": [
      "driver is not insured\n"
     ]
    }
   ],
   "source": [
    "#35. A Company insures its drivers in the following cases.\n",
    "#1. If the driver is married.\n",
    "#2. If the driver is unmarried, male and above 30 years of age.\n",
    "#3. if the driver is unmarried, female and above 25 years of age.\n",
    "\n",
    "#In all other cases, the driver is not insured. If the marital status, sex, age of the \n",
    "#driver are the inputs, write a program to determine whether the driver is insured or not.\n",
    "\n",
    "marital_status = input(\"enter the marital_status[m/u]:\")\n",
    "gender = input(\"enter the gender[m/fm]:\")\n",
    "age = int(input(\"enter the age:\"))\n",
    "if marital_status == 'married':\n",
    "    print(\"driver is insured\")\n",
    "elif (gender == \"m\" and age >= 30) or (gender == \"fm\" and age >= 25):\n",
    "    print(\"driver is insured\")\n",
    "else:\n",
    "    print(\"driver is not insured\")\n"
   ]
  },
  {
   "cell_type": "code",
   "execution_count": 22,
   "id": "3b6bbe39-0f6f-4f5d-b397-c487d6b8e6f0",
   "metadata": {},
   "outputs": [
    {
     "name": "stdin",
     "output_type": "stream",
     "text": [
      "enter the ch: lucky $ kala\n"
     ]
    },
    {
     "name": "stdout",
     "output_type": "stream",
     "text": [
      "7\n"
     ]
    }
   ],
   "source": [
    "#36. Write a program to read the characters continuously until ‘$’ is given and display the number of characters entered.\n",
    "\n",
    "ch = input(\"enter the ch:\")\n",
    "c = 0\n",
    "for i in ch:\n",
    "    c+= 1\n",
    "    if (i == \"$\"):\n",
    "        print(c)"
   ]
  },
  {
   "cell_type": "code",
   "execution_count": 24,
   "id": "8aedf882-ad6f-41f8-b070-702f57bf227b",
   "metadata": {},
   "outputs": [
    {
     "name": "stdin",
     "output_type": "stream",
     "text": [
      "enter the ch: lakshmi\n"
     ]
    },
    {
     "name": "stdout",
     "output_type": "stream",
     "text": [
      "lower\n"
     ]
    }
   ],
   "source": [
    "#37. Write a program to read a character and find out whether it is uppercase or lowercase.\n",
    "\n",
    "ch = input(\"enter the ch:\")\n",
    "if ch.isupper():\n",
    "    print(\"upper\")\n",
    "if ch.islower():\n",
    "    print(\"lower\")"
   ]
  },
  {
   "cell_type": "code",
   "execution_count": 25,
   "id": "7e29b832-108a-46f2-bf8b-c8f2ab5eb5c0",
   "metadata": {},
   "outputs": [
    {
     "name": "stdin",
     "output_type": "stream",
     "text": [
      "enter the ch: lucky\n"
     ]
    },
    {
     "name": "stdout",
     "output_type": "stream",
     "text": [
      "LUCKY\n"
     ]
    }
   ],
   "source": [
    "#38. Write a program to print the uppercase letter of a given lowercase.\n",
    "ch = input(\"enter the ch:\")\n",
    "k = ch.swapcase()\n",
    "print(k)"
   ]
  },
  {
   "cell_type": "code",
   "execution_count": 26,
   "id": "57ac023c-1cd6-4697-b62c-9a1391385a84",
   "metadata": {},
   "outputs": [
    {
     "name": "stdin",
     "output_type": "stream",
     "text": [
      "enter a char kala\n"
     ]
    },
    {
     "name": "stdout",
     "output_type": "stream",
     "text": [
      "lower\n"
     ]
    }
   ],
   "source": [
    "#39. Write a program to check whether the given input is digit or lowercase character or uppercase character or a special character.\n",
    "ch = input(\"enter a char\")\n",
    "if ch.isdigit():\n",
    "    print(\"digit\")\n",
    "elif ch.islower():\n",
    "    print(\"lower\")\n",
    "elif ch.isupper():\n",
    "    print(\"upper\")\n",
    "else:\n",
    "    print(\"special\")"
   ]
  },
  {
   "cell_type": "code",
   "execution_count": 2,
   "id": "b58a613b-dd5e-4995-8dc4-3b4338dfa5a5",
   "metadata": {},
   "outputs": [
    {
     "name": "stdin",
     "output_type": "stream",
     "text": [
      "enter the alphabet: A\n"
     ]
    },
    {
     "name": "stdout",
     "output_type": "stream",
     "text": [
      "vowel\n"
     ]
    }
   ],
   "source": [
    "#40.Write a program to check whether the given alphabet is a vowel or consonant.\n",
    "i = input(\"enter the alphabet:\")\n",
    "x = \"a\",\"e\",\"i\",\"o\",\"u\",\"A\",\"E\",\"I\",\"O\",\"U\"\n",
    "if i in x:\n",
    "    print(\"vowel\")\n",
    "else:\n",
    "    print(\"consonant\")"
   ]
  },
  {
   "cell_type": "code",
   "execution_count": 19,
   "id": "8b9aa451-fe3c-43da-8ee9-29bb37e848ac",
   "metadata": {},
   "outputs": [
    {
     "name": "stdin",
     "output_type": "stream",
     "text": [
      "enter n: 100\n"
     ]
    },
    {
     "name": "stdout",
     "output_type": "stream",
     "text": [
      "35\n",
      "70\n"
     ]
    }
   ],
   "source": [
    "#41.Write a program to numbers divisible by 7 and multiple of 5, between 1 and 10\n",
    "n = int(input(\"enter n:\"))\n",
    "for i in range(1, n+1):\n",
    "    if i % 7 == 0 and i % 5 == 0:\n",
    "        print(i)"
   ]
  },
  {
   "cell_type": "code",
   "execution_count": 13,
   "id": "0d1dfb1e-b438-4875-af3a-4c128e1b7dfa",
   "metadata": {},
   "outputs": [
    {
     "name": "stdin",
     "output_type": "stream",
     "text": [
      "enter the x: 3\n",
      "enter the y: 4\n",
      "enter the z: 5\n"
     ]
    },
    {
     "name": "stdout",
     "output_type": "stream",
     "text": [
      "z is older\n",
      "x is youngest\n"
     ]
    }
   ],
   "source": [
    "#42.Write a program to find the oldest and youngest among 3 people.\n",
    "x = int(input(\"enter the x:\"))\n",
    "y = int(input(\"enter the y:\"))\n",
    "z = int(input(\"enter the z:\"))\n",
    "if x > y and x > z:\n",
    "    print(\"x is older\")\n",
    "if y > x and y > z:\n",
    "    print(\"y is older\")\n",
    "if z > x and z > y:\n",
    "    print(\"z is older\")\n",
    "if x < y and x < z:\n",
    "    print(\"x is youngest\")\n",
    "if y < x and y < z:\n",
    "    print(\"y is youngest\")\n",
    "if z < x and z < y:\n",
    "    print(\"z is youngest\")"
   ]
  },
  {
   "cell_type": "code",
   "execution_count": 104,
   "id": "826d5c8b-42c0-4559-adb8-80bdc6453347",
   "metadata": {},
   "outputs": [
    {
     "name": "stdin",
     "output_type": "stream",
     "text": [
      " 5\n",
      " 2\n",
      " *\n"
     ]
    },
    {
     "name": "stdout",
     "output_type": "stream",
     "text": [
      "10\n"
     ]
    }
   ],
   "source": [
    "#43Write a program to emulate a four-function calculator which can perform addition, subtraction, multiplication and division. Program should read two real  and an operator which tells the operation to be performed.\n",
    "a = int(input())\n",
    "b = int(input())\n",
    "calculate = input()\n",
    "if calculate == \"+\":\n",
    "        print(a+b)\n",
    "elif calculate == \"-\":\n",
    "        print(a-b)\n",
    "elif calculate == \"*\":\n",
    "        print(a*b)\n",
    "elif calculate == \"/\":\n",
    "        print(a/b)\n",
    "else:\n",
    "    print(\"invalide statement\")"
   ]
  },
  {
   "cell_type": "code",
   "execution_count": 14,
   "id": "4b112765-478e-4e1a-a1d4-5292595ba987",
   "metadata": {},
   "outputs": [
    {
     "name": "stdin",
     "output_type": "stream",
     "text": [
      "enter the amount: 12354\n"
     ]
    },
    {
     "name": "stdout",
     "output_type": "stream",
     "text": [
      "2000-> 6\n",
      "500-> 0\n",
      "100-> 3\n",
      "20-> 2\n",
      "10-> 1\n",
      "5-> 0\n",
      "2-> 2\n",
      "1-> 0\n"
     ]
    }
   ],
   "source": [
    "#44. Write a program to read a number and print how many numbers of 2000, 500, 100, 20, 10, 5, 2,1 notes are available in the given amount.\n",
    "x = int(input(\"enter the amount:\"))\n",
    "tt = x // 2000\n",
    "fh = (x % 2000) // 500\n",
    "h = ((x % 2000) % 500) // 100\n",
    "tw = (((x % 2000) % 500) % 100) // 20\n",
    "te = ((((x % 2000) % 500) % 100) % 20) // 10\n",
    "fi = (((((x % 2000) % 500) % 100) % 20) % 10) // 5\n",
    "to = ((((((x % 2000) % 500) % 100) % 20) % 10) % 5) // 2\n",
    "o = (((((((x % 2000) % 500) % 100) % 20) % 10) % 5) % 2) // 1\n",
    "\n",
    "\n",
    "print('2000->', tt)\n",
    "print('500->', fh)\n",
    "print('100->', h)\n",
    "print('20->', tw)\n",
    "print('10->', te)\n",
    "print('5->', fi)\n",
    "print('2->', to)\n",
    "print('1->', o)\n"
   ]
  },
  {
   "cell_type": "code",
   "execution_count": 85,
   "id": "ae46e9af-15c1-4717-9816-9d275afeddf5",
   "metadata": {},
   "outputs": [
    {
     "name": "stdout",
     "output_type": "stream",
     "text": [
      "2022-06-10 18:29:41.523841\n"
     ]
    }
   ],
   "source": [
    "#45. Write a program to accept a date and print it in words.\n",
    "from datetime import datetime\n",
    "print(datetime.now())"
   ]
  }
 ],
 "metadata": {
  "kernelspec": {
   "display_name": "Python 3 (ipykernel)",
   "language": "python",
   "name": "python3"
  },
  "language_info": {
   "codemirror_mode": {
    "name": "ipython",
    "version": 3
   },
   "file_extension": ".py",
   "mimetype": "text/x-python",
   "name": "python",
   "nbconvert_exporter": "python",
   "pygments_lexer": "ipython3",
   "version": "3.9.7"
  }
 },
 "nbformat": 4,
 "nbformat_minor": 5
}
