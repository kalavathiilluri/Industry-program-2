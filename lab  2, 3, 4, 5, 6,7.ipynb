{
 "cells": [
  {
   "cell_type": "code",
   "execution_count": null,
   "id": "ea5fb379-079d-4ec1-86ae-a9a739445737",
   "metadata": {},
   "outputs": [],
   "source": [
    "# 5. Write a program to find the area and perimeter of a square.\n",
    "s = int(input(\"enter s:\"))\n",
    "k = s*s # area of square\n",
    "p = 4*s # perimeter of a square\n",
    "print(k)\n",
    "print(p)"
   ]
  },
  {
   "cell_type": "code",
   "execution_count": null,
   "id": "988b5db9-e435-44a1-8981-70dec162d62e",
   "metadata": {},
   "outputs": [],
   "source": [
    "# 6. Write a program to find the area and circumference of a circle.\n",
    "PI = 3.14\n",
    "r = float(input(\"enter radius:\"))\n",
    "area = PI*r*r # area of the circle\n",
    "circum = 2*PI*r # circumference of the ciecle.\n",
    "print(\"area:\",area)\n",
    "print(\"circum:\",circum)"
   ]
  },
  {
   "cell_type": "code",
   "execution_count": null,
   "id": "53d52d78-763b-4d93-a4cf-8eef0a2d6de7",
   "metadata": {},
   "outputs": [],
   "source": [
    "# 7. Write a program to find the area of a sphere.\n",
    "PI = 3.14\n",
    "r= float(input(\"enter the radius:\"))\n",
    "area = 4*PI*r*r # area of a sphere.\n",
    "print(\"area:\",area)"
   ]
  },
  {
   "cell_type": "code",
   "execution_count": null,
   "id": "8e09b35a-6df3-4aa6-89ad-4d2cb910d29f",
   "metadata": {},
   "outputs": [],
   "source": [
    "#8. Write a program to find the volume of a cylinder.\n",
    "PI = 3.14\n",
    "r = float(input(\"enter the radius:\"))\n",
    "h = float(input(\"enter the height:\"))\n",
    "volume = PI*r*r*h # volume of a cylinder.\n",
    "print(\"valume:\",volume)"
   ]
  },
  {
   "cell_type": "code",
   "execution_count": null,
   "id": "da7a00d8-e8fb-4c39-9c8b-00c2713b6a50",
   "metadata": {},
   "outputs": [],
   "source": [
    "#9. Write a program to find your age in days.\n",
    "x = int(input(\"enter the value x:\"))\n",
    "y = 365\n",
    "s = (x * y)\n",
    "print(s)"
   ]
  },
  {
   "cell_type": "code",
   "execution_count": null,
   "id": "70a9fa5c-39dd-4322-9d6f-3194a7263cdc",
   "metadata": {},
   "outputs": [],
   "source": [
    "#10. Write a program to find the simple interest and compound interest.\n",
    "p = int(input(\"enter the value p:\"))\n",
    "t = int(input(\"enter the value t:\")) #in months \n",
    "r = float(input(\"enter the value r:\"))\n",
    "n = int(input(\"enter the value n:\"))\n",
    "s = p * t * r /100 # simple interest\n",
    "c = (p*(1 + (r/n)) **(n*t)) - p # compound interest\n",
    "print(s)\n",
    "print(c)"
   ]
  },
  {
   "cell_type": "code",
   "execution_count": null,
   "id": "6a340201-6708-4989-889c-97c267d6482d",
   "metadata": {},
   "outputs": [],
   "source": [
    "#11.Write a program to convert speed of a vehicle given in km/hour to miles.\n",
    "\n",
    "k = float(input(\"Enter value in k: \"))\n",
    "conv_fac = 0.621371\n",
    "miles = k * conv_fac\n",
    "print(miles)"
   ]
  },
  {
   "cell_type": "code",
   "execution_count": null,
   "id": "aa320b33-c423-47f5-862e-f7167a599275",
   "metadata": {},
   "outputs": [],
   "source": [
    "#12. Write a program to convert the given seconds into hours – minutes – seconds. \n",
    "seconds = int(input(\"emter value seconds:\"))\n",
    "hour    = seconds // 3600\n",
    "minutes = seconds // 60\n",
    "second = seconds % 60\n",
    "print(hour, minutes,seconds)"
   ]
  },
  {
   "cell_type": "code",
   "execution_count": null,
   "id": "6674c94c-e96b-4912-8d93-7f5cfbcd576a",
   "metadata": {},
   "outputs": [],
   "source": [
    "#13. A milk vendor buys milk at the rate of 3.25/lt then adds a litre of water for every 4 litres of milk and sells the water milk at the rate of 4.15/lt. Calculate the gain \n",
    "#for milk vendor\n",
    "L = int(input(\"enter the L\"))\n",
    "cost_price = 3.25 * L\n",
    "L = (L + L/4) # litres.\n",
    "selling_price = 4.15 * L\n",
    "gain = selling_price-cost_price # gain formula.\n",
    "print(L)\n",
    "print(cost_price)\n",
    "print(selling_price)\n",
    "print(gain)"
   ]
  },
  {
   "cell_type": "code",
   "execution_count": null,
   "id": "31ea8eee-fff8-4979-ad40-7ac6389a25dc",
   "metadata": {},
   "outputs": [],
   "source": [
    "#14. The temperature of the city is input through the keyboard in Fahrenheit. Write a program to convert into Celsius.\n",
    "F = int(input(\"enter the value F\"))\n",
    "C = (F - 32)*5/9 #formula for fahrenheit to celsius.\n",
    "print(C)"
   ]
  },
  {
   "cell_type": "code",
   "execution_count": null,
   "id": "c5f5375c-48e0-4acf-aaee-0bf2629a525c",
   "metadata": {},
   "outputs": [],
   "source": [
    "#15. Two numbers are input into two locations ‘a’ and ‘b’. Write a program to interchange the contents of ‘a’ and ‘b’ without using temporary variables\n",
    "a = 25\n",
    "b = 30\n",
    "a , b = b , a\n",
    "print(a , b )"
   ]
  },
  {
   "cell_type": "code",
   "execution_count": null,
   "id": "8c91b3b7-61c7-497a-848b-9247fdeca4e9",
   "metadata": {},
   "outputs": [],
   "source": [
    "#16. Given the coordinates of two points (x1, y1) and (x2, y2). Write a program to find the distance between these two point\n",
    "x1 = 5\n",
    "x2 = 2\n",
    "y1 = 3\n",
    "y2 = 2\n",
    "d = (((x2 - x1)**2) + ((y2 - y1)**2))**0.5 # distance between the two points.\n",
    "print(d)"
   ]
  },
  {
   "cell_type": "code",
   "execution_count": null,
   "id": "3295d3b9-dd4f-42f8-874e-06bec95d465e",
   "metadata": {},
   "outputs": [],
   "source": [
    "#17.Rajesh’s basic salary is input through the keyboard. His D.A. is 40% of basic salary, and H.R.A. is 20% of basic salary. Write a program to calculate his gross salary.\n",
    "B = int(input(\"enter the value B\"))\n",
    "D_A = B*0.4\n",
    "H_R_A = B*0.2\n",
    "gross_salary = (B + D_A + H_R_A)\n",
    "print(gross_salary)"
   ]
  },
  {
   "cell_type": "code",
   "execution_count": null,
   "id": "9187431c-ca94-4260-99f4-c4fe2fd306ac",
   "metadata": {},
   "outputs": [],
   "source": [
    "#18. The distance between two cities in Km. is input through the keyboard. Write a program to convert and print the result in meters and centimetres.\n",
    "k = int(input(\"enter the value\"))\n",
    "m =  1000\n",
    "c =  100000\n",
    "n = k*m #convert kilometers to meters\n",
    "o = k*c # convert kilometers to centimeters.\n",
    "print(n,o)"
   ]
  },
  {
   "cell_type": "code",
   "execution_count": null,
   "id": "4d107fd1-fdf9-4a50-99df-d1c60a3d78ee",
   "metadata": {},
   "outputs": [],
   "source": [
    "#19. Write a program which accepts the amount in dollars and convert into rupees.\n",
    "dollars = int(input(\"enter the value\"))\n",
    "rupees = dollars * 76.1445 # convert dollars into rupees.\n",
    "print(rupees)"
   ]
  },
  {
   "cell_type": "code",
   "execution_count": null,
   "id": "ca496417-e95d-4215-a17f-e99953d0294e",
   "metadata": {},
   "outputs": [],
   "source": [
    "#20. Write a program to read your address and print it.\n",
    "x = str(\"lakshminarasapuram_mopadu_pamur_prakasham\")\n",
    "print(x)"
   ]
  },
  {
   "cell_type": "code",
   "execution_count": null,
   "id": "bf85333f-04d9-4fdf-8b49-b9bf4d850cbf",
   "metadata": {},
   "outputs": [],
   "source": [
    "#21. Write a program to print the area of a triangle if b and h values are given.\n",
    "b = int(input(\"enter the value b\"))\n",
    "h = int(input(\"enter the vale h\"))\n",
    "area = 1/2 * b * h # area of the triangle\n",
    "print(area)\n",
    "print(type(area))"
   ]
  },
  {
   "cell_type": "code",
   "execution_count": null,
   "id": "8a64c420-1731-4d91-b3e8-31d4688af6ed",
   "metadata": {},
   "outputs": [],
   "source": [
    "#22. Write a program to print the area of a triangle if three sides are given.\n",
    "a = int(input(\"enter the value a\"))\n",
    "b = int(input(\"enter the value b\"))\n",
    "c = int(input(\"enter the value c\"))\n",
    "s =( a + b + c) / 2\n",
    "area = ((s*(s-a)*(s-b)*(s-c)) ** 0.5) # area of the triangle if know the three sides.\n",
    "print(s)\n",
    "print(area)\n",
    "type(s)"
   ]
  },
  {
   "cell_type": "code",
   "execution_count": null,
   "id": "076d31a1-567a-4564-b4e7-883dae8f9464",
   "metadata": {},
   "outputs": [],
   "source": [
    "#23. Write a program to read the marks of 3 subjects and display the total, average, class.\n",
    "t = int(input(\" enter the value t:\"))\n",
    "e = int(input(\"enter the value e:\"))\n",
    "h = int(input(\"enter the value h:\"))\n",
    "total =( t + e + h)\n",
    "average = (t + e + h)/3\n",
    "print(total)\n",
    "print(average)"
   ]
  },
  {
   "cell_type": "code",
   "execution_count": null,
   "id": "2c930362-54bf-442e-a0f9-753f5ea5acaf",
   "metadata": {},
   "outputs": [],
   "source": [
    "#24. Write a program to check whether the given number is positive or negative.\n",
    "\n",
    "x = int(input())\n",
    "if x >= 0:\n",
    "    print(\"positive\")\n",
    "else:\n",
    "    print(\"negative\")"
   ]
  },
  {
   "cell_type": "code",
   "execution_count": null,
   "id": "a6044fe3-ac38-4cf4-a956-2131330820fe",
   "metadata": {},
   "outputs": [],
   "source": [
    "#25. Write a program to find out the given number is odd or even.\n",
    "value = int(input(\"enter the x: \"))\n",
    "\n",
    "if value % 2 ==0:\n",
    "    print(\"Even\")\n",
    "else:\n",
    "    print(\"Odd\")"
   ]
  },
  {
   "cell_type": "code",
   "execution_count": null,
   "id": "7c0ab838-413d-4e44-bebe-9271197298f7",
   "metadata": {},
   "outputs": [],
   "source": [
    "#26. Write a program to find smallest of given two numbers.\n",
    "x = int(input(\"enter x:\"))\n",
    "y = int(input(\"enter y:\"))\n",
    "if x < y:\n",
    "    print(\"x is small\")\n",
    "else:\n",
    "    print(\"y is small\")"
   ]
  },
  {
   "cell_type": "code",
   "execution_count": 33,
   "id": "b296f2d6-edd3-4fdd-939f-98438adcc4cc",
   "metadata": {},
   "outputs": [
    {
     "name": "stdout",
     "output_type": "stream",
     "text": [
      "enter x: 800\n",
      "enter y: 5000\n",
      "enter z: 200\n"
     ]
    },
    {
     "name": "stdout",
     "output_type": "stream",
     "text": [
      "y is highest\n"
     ]
    }
   ],
   "source": [
    "#27. Write a program to find biggest of given three numbers.\n",
    "x = int(input(\"enter x:\"))\n",
    "y = int(input(\"enter y:\"))\n",
    "z = int(input(\"enter z:\"))\n",
    "if x > y and y > z and x > z:\n",
    "    print(\"x is highest\")\n",
    "elif x < y and y > z:\n",
    "    print(\"y is highest\")\n",
    "else:\n",
    "    print(\"z is highest\")\n",
    "\n",
    "    "
   ]
  },
  {
   "cell_type": "code",
   "execution_count": null,
   "id": "d29f4ac7-05f4-4439-b0c0-88af496cbd94",
   "metadata": {},
   "outputs": [],
   "source": [
    "#28. Write a program to check whether the given year is leap year or not.\n",
    "s = int(input(\"enter s:\"))\n",
    "if s % 100 == 0 and s % 400 == 0:\n",
    "    print(\"leap_year\")\n",
    "elif s % 100 != 0 and s % 4 == 0:\n",
    "    print(\"leap_year\")\n",
    "else:\n",
    "    print(\"not_a_leap_year\")"
   ]
  },
  {
   "cell_type": "code",
   "execution_count": null,
   "id": "0dd4549b-be00-45e2-9869-a89882b32d3d",
   "metadata": {},
   "outputs": [],
   "source": [
    "#29. Write a program to find the roots of a given quadratic equation and print the nature of roots.0\n",
    "import math\n",
    "x = math.sqrt(0)\n",
    "a = int(input(\"enter a :\"))\n",
    "b = int(input(\"enter b :\"))\n",
    "c = int(input(\"enter c :\"))\n",
    "d = (b *b) - (4*a*c) # discriminant\n",
    "print(x)\n",
    "if(d>0):\n",
    "    root1 = (-b + math.sqrt(d)/(2*a))\n",
    "    root2 = (-b + math.sqrt(d)/(2*a))\n",
    "    print(\"two distint real roots exists \")\n",
    "elif(d == 0):\n",
    "    root1 = root2 = -b/(2*a)\n",
    "    print(\"two equal and real roots exists\")\n",
    "else:\n",
    "    print(\"two distint complex roots exixts\")"
   ]
  },
  {
   "cell_type": "code",
   "execution_count": null,
   "id": "0bd68da5-7d81-42da-87e9-38920a25ecaf",
   "metadata": {},
   "outputs": [],
   "source": [
    "#30. Write a program to read positive numbers continuously until negative number is given by using ‘if’.\n",
    "a = (1,2,3,4,5,6,-6,7,8,9)\n",
    "i = 0\n",
    "print(\"Given numbers\")\n",
    "print(a)\n",
    "for i in a:\n",
    "    print(i)\n",
    "    if i<=0:\n",
    "        break;"
   ]
  },
  {
   "cell_type": "code",
   "execution_count": null,
   "id": "151c4354-1503-475d-ab5b-492de6daebfd",
   "metadata": {},
   "outputs": [],
   "source": [
    "#31. Write a program to read ten numbers and print their sum by using ‘if’ statement.\n",
    "n = int(input(\"enter n:\"))\n",
    "sum = 0\n",
    "for value in range(1,n+1):\n",
    "    print(value)\n",
    "    sum = sum + value\n",
    "print(sum)"
   ]
  },
  {
   "cell_type": "code",
   "execution_count": null,
   "id": "56f92909-545c-44b8-be08-faac1a251be8",
   "metadata": {},
   "outputs": [],
   "source": [
    "#32. Write a program to read three sides a, b, c of a triangle and print the type of the triangle.\n",
    "sa = int(input(\"enter a value:\"))\n",
    "sb = int(input(\"enter b value:\"))\n",
    "sc = int(input(\"enter c value:\"))\n",
    "if(sa == sc + sb or sb == sa + sc or sc == sa+sb):\n",
    "    print(\"Right-angled triangle\")\n",
    "elif (sa > sc+sb or sb > sa + sc or sc >sa + sb):\n",
    "    print(\"Obtuse-angled triangle\")\n",
    "else:\n",
    "    print(\"Acute-angled triangle\")"
   ]
  }
 ],
 "metadata": {
  "kernelspec": {
   "display_name": "Python 3 (ipykernel)",
   "language": "python",
   "name": "python3"
  },
  "language_info": {
   "codemirror_mode": {
    "name": "ipython",
    "version": 3
   },
   "file_extension": ".py",
   "mimetype": "text/x-python",
   "name": "python",
   "nbconvert_exporter": "python",
   "pygments_lexer": "ipython3",
   "version": "3.9.12"
  },
  "toc-autonumbering": false,
  "toc-showcode": true,
  "toc-showmarkdowntxt": true
 },
 "nbformat": 4,
 "nbformat_minor": 5
}
