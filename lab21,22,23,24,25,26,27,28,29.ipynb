{
 "cells": [
  {
   "cell_type": "code",
   "execution_count": null,
   "id": "1067e60f-6407-42d6-aaf1-0a7b1b85a7f2",
   "metadata": {},
   "outputs": [],
   "source": [
    "# 85. Write a program to print the Floyd’s triangle.\n",
    "#1\n",
    "#2 3\n",
    "#4 5 6\n",
    "#7 8 9 10\n",
    "n = int(input(\" Enter the total Number of Rows  : \"))\n",
    "d = 1\n",
    "c = 1\n",
    "for i in range(1, n + 1):\n",
    "    for j in range(1, i + 1):        \n",
    "        print(d, end = '  ')\n",
    "        d += 1\n",
    "    c += 1\n",
    "    print()"
   ]
  },
  {
   "cell_type": "code",
   "execution_count": null,
   "id": "09e17a76-81ef-403d-abde-ab57779234b3",
   "metadata": {},
   "outputs": [],
   "source": [
    "#86. Write a program to print the following triangle.\n",
    "#1\n",
    "#1 2\n",
    "#1 2 3\n",
    "#1 2 3 4\n",
    "#1 2 3 4 5\n",
    "n = int(input(\"enter the total number of rows :\"))\n",
    "for i in range(0,n):\n",
    "    for j in range(i+1):\n",
    "        print(j+1,end=\" \")\n",
    "    print()"
   ]
  },
  {
   "cell_type": "code",
   "execution_count": 11,
   "id": "3c4d3b69-05b1-4189-9c69-e22a61d49da1",
   "metadata": {},
   "outputs": [
    {
     "name": "stdout",
     "output_type": "stream",
     "text": [
      "enter the total number of rows : 5\n"
     ]
    },
    {
     "name": "stdout",
     "output_type": "stream",
     "text": [
      "1 \n",
      "2 2 \n",
      "3 3 3 \n",
      "4 4 4 4 \n",
      "5 5 5 5 5 \n"
     ]
    }
   ],
   "source": [
    "#87. Write a program to print the following triangle.\n",
    "#1\n",
    "#2 2\n",
    "#3 3 3\n",
    "#4 4 4 4\n",
    "#5 5 5 5 5\n",
    "n = int(input(\"enter the total number of rows :\"))\n",
    "for i in range(0,n):#nested loop\n",
    "    for j in range(i,-1,-1):\n",
    "        print(i+1,end=\" \")\n",
    "    print()"
   ]
  },
  {
   "cell_type": "code",
   "execution_count": null,
   "id": "00a4ba55-6ac5-4c29-bdb3-62d642de01ed",
   "metadata": {},
   "outputs": [],
   "source": [
    "#LAB: 22\n",
    "#88. Write a program to print the following triangle.\n",
    "#1\n",
    "#1 1\n",
    "#1 2 1\n",
    "#1 2 3 1\n",
    "#1 2 3 4 1\n",
    "#1 2 3 4 5 1\n",
    "n = int(input(\"enter the total number of rows : \"))\n",
    "for i in range(1,n+1):\n",
    "    for j in range(1,i):\n",
    "        print(j,end=\" \")\n",
    "    print(1,end=\" \")\n",
    "    print()"
   ]
  },
  {
   "cell_type": "code",
   "execution_count": null,
   "id": "2a1570f5-2da9-4891-98ad-90a97016f2ab",
   "metadata": {},
   "outputs": [],
   "source": [
    "#89. Write a program to print the following triangle.\n",
    "#1 2 3 4 5\n",
    "#1 2 3 4\n",
    "#1 2 3\n",
    "#1 2\n",
    "#1\n",
    "n = int(input(\"enter the total number of rows :\"))\n",
    "for i in range(0,n):\n",
    "    for j in range(n-i):\n",
    "        print(j+1,end=\" \")\n",
    "    print()"
   ]
  },
  {
   "cell_type": "code",
   "execution_count": null,
   "id": "3ce8e7a9-73ae-4c93-bc6a-ac56e09e87a7",
   "metadata": {},
   "outputs": [],
   "source": [
    "#90. Write a program to print the following triangle.\n",
    "#1 1 1 1 1\n",
    "#2 2 2 2\n",
    "#3 3 3\n",
    "#4 4\n",
    "#5\n",
    "n = int(input(\"enter the total number of rows :\"))\n",
    "for i in range(0,n):\n",
    "    for j in range(n-i):\n",
    "        print(i+1,end=\" \")\n",
    "    print()"
   ]
  },
  {
   "cell_type": "code",
   "execution_count": null,
   "id": "832dc76d-efb5-4b9c-b6ca-e399cca274e2",
   "metadata": {},
   "outputs": [],
   "source": [
    "#91. Write a program to print the following triangle.\n",
    "#5 5 5 5 5\n",
    "#4 4 4 4\n",
    "#3 3 3\n",
    "#2 2\n",
    "#1\n",
    "n = int(input(\"enter the total number of rows:\"))\n",
    "for i in range(0,n):\n",
    "    for j in range(n-i):\n",
    "        print(n-i,end=\" \")\n",
    "    print()"
   ]
  },
  {
   "cell_type": "code",
   "execution_count": null,
   "id": "d591b5f0-396a-4e08-ab7e-2e72e8bcd2aa",
   "metadata": {},
   "outputs": [],
   "source": [
    "#92. Write a program to print the following triangle\n",
    "#5 4 3 2 1\n",
    "#5 4 3 2\n",
    "#5 4 3\n",
    "#5 4\n",
    "#5\n",
    "n = int(input(\"enter the total number of rows :\"))\n",
    "for i in range(0,n):\n",
    "    for j in range(n-i):\n",
    "        print(n-j,end=\" \")\n",
    "    print()"
   ]
  },
  {
   "cell_type": "code",
   "execution_count": null,
   "id": "aa8368e1-3a05-4457-be74-4415ea3dc850",
   "metadata": {},
   "outputs": [],
   "source": [
    "#93. Write a program to print the following triangle\n",
    "#5\n",
    "#5 4\n",
    "#5 4 3\n",
    "#5 4 3 2\n",
    "#5 4 3 2 1\n",
    "n = int(input(\"enter the total number of rows :\"))\n",
    "for i in range(0,n):\n",
    "    for j in range(i+1):\n",
    "        print(n-j,end=\" \")\n",
    "    print()"
   ]
  },
  {
   "cell_type": "code",
   "execution_count": null,
   "id": "b65b73a9-d2db-4b27-a71d-28f3e5ad0038",
   "metadata": {},
   "outputs": [],
   "source": [
    "#94. Write a program to print the following triangle.\n",
    "#1 1 1 1 1\n",
    "#  2 2 2 2\n",
    "#    3 3 3\n",
    "#      4 4\n",
    "#        5\n",
    "n = int(input(\"enter the total number of rows:\"))\n",
    "for i in range(0,n):\n",
    "    for j in range(i):\n",
    "        print(\" \",end=\" \")\n",
    "    for k in range(n-i):\n",
    "        print(i+1,end=\" \")\n",
    "    print()"
   ]
  },
  {
   "cell_type": "code",
   "execution_count": null,
   "id": "df24e054-5e42-47ab-a363-8eca3c9c9abf",
   "metadata": {},
   "outputs": [],
   "source": [
    "#95. Write a program to print the following triangle.\n",
    "#1 2 3 4 5\n",
    "#  1 2 3 4\n",
    "#    1 2 3\n",
    "#      1 2\n",
    "#         \n",
    "n = int(input(\"enter the total number of rows:\"))\n",
    "d = 1\n",
    "for i in range(n1):\n",
    "    for j in range(i):\n",
    "        print(\" \",end=\" \")\n",
    "    for k in range(n-i):\n",
    "        print(k+1,end=\" \")\n",
    "    print()"
   ]
  },
  {
   "cell_type": "code",
   "execution_count": null,
   "id": "9101fd7a-ef90-402a-af26-cd9fc50a26c1",
   "metadata": {},
   "outputs": [],
   "source": [
    "#96. Write a program to print the following triangle.\n",
    "#1 2 3 4 5\n",
    "#  2 3 4 5\n",
    "#    3 4 5\n",
    "#      4 5\n",
    "#        5\n",
    "n = int(input(\"enter the total number of rows:\"))\n",
    "c = 1\n",
    "d = 1\n",
    "for i in range(1, n + 1):\n",
    "    for j in range(1, i):\n",
    "        print(\" \", end = ' ')\n",
    "    for k in range(i, n + 1):\n",
    "        print(d, end = ' ')\n",
    "        d += 1\n",
    "    c += 1\n",
    "    d = c\n",
    "    print()"
   ]
  },
  {
   "cell_type": "code",
   "execution_count": null,
   "id": "e45d9a4a-d585-4104-befc-7bf9d4e6b40e",
   "metadata": {},
   "outputs": [],
   "source": [
    "#LAB: 25\n",
    "#97. Write a program to print the following triangle\n",
    "#        1\n",
    "#      1 2\n",
    "#    1 2 3\n",
    "#  1 2 3 4\n",
    "#1 2 3 4 5\n",
    "n = int(input(\"enter the total number of rows:\"))\n",
    "d = 1\n",
    "for i in range(1,n+1):\n",
    "    for j in range(i,n+1):\n",
    "        print(\" \",end=\" \")\n",
    "    for k in range(1, i+1):\n",
    "        print(d, end=\" \")\n",
    "        d += 1\n",
    "    d = 1    \n",
    "    print()\n"
   ]
  },
  {
   "cell_type": "code",
   "execution_count": null,
   "id": "5cfb4577-9770-4168-8e14-5d2979039a1e",
   "metadata": {},
   "outputs": [],
   "source": [
    "#98. Write a program to print the following triangle.\n",
    "#1 2 3 4 5\n",
    "#  2 3 4 5\n",
    "#    3 4 5\n",
    "#      4 5\n",
    "#        5\n",
    "n = int(input(\"enter the total number of rows:\"))\n",
    "c = 1\n",
    "d = 1\n",
    "for i in range(1, n + 1):\n",
    "    for j in range(1, i):\n",
    "        print(\" \", end = ' ')\n",
    "    for k in range(i, n + 1):\n",
    "        print(d, end = ' ')\n",
    "        d += 1\n",
    "    c += 1\n",
    "    d = c\n",
    "    print()"
   ]
  },
  {
   "cell_type": "code",
   "execution_count": 11,
   "id": "b2f5e367-712e-492e-b6c1-beb8c42bdf2d",
   "metadata": {},
   "outputs": [
    {
     "name": "stdout",
     "output_type": "stream",
     "text": [
      "enter the total number of rows: 5\n"
     ]
    },
    {
     "name": "stdout",
     "output_type": "stream",
     "text": [
      "5 4 3 2 1 \n",
      "  5 4 3 2 \n",
      "    5 4 3 \n",
      "      5 4 \n",
      "        5 \n"
     ]
    }
   ],
   "source": [
    "#99. Write a program to print the following triangle.\n",
    "#5 4 3 2 1\n",
    "#  5 4 3 2\n",
    "#    5 4 3\n",
    "#      5 4\n",
    "#        5\n",
    "n = int(input(\"enter the total number of rows:\"))\n",
    "for i in range(n):\n",
    "    for j in range(i):\n",
    "        print(\" \", end = ' ')\n",
    "    for j in range( n - i):\n",
    "        print(n-j, end = ' ')\n",
    "    print()"
   ]
  },
  {
   "cell_type": "code",
   "execution_count": null,
   "id": "a7f3481a-37ed-4cfb-989f-c8bcfd96a998",
   "metadata": {},
   "outputs": [],
   "source": [
    "#100. Write a program to print the following triangle.\n",
    "#        5\n",
    "#      5 4\n",
    "#    5 4 3\n",
    "#  5 4 3 2\n",
    "#5 4 3 2 1\n",
    "n = int(input(\"enter the total number of rows:\"))\n",
    "for i in range(n):\n",
    "    for j in range(n-i-1):\n",
    "        print(\" \", end = ' ')\n",
    "    for j in range(i+1):\n",
    "        print(n-j, end = ' ')\n",
    "    print()\n",
    "    "
   ]
  },
  {
   "cell_type": "code",
   "execution_count": null,
   "id": "d9df621f-8182-4374-a88d-f25d95bcd63a",
   "metadata": {},
   "outputs": [],
   "source": [
    "#101. Write a program to print the following triangle.\n",
    "#        1\n",
    "#      2 1\n",
    "#    3 2 1\n",
    "#  4 3 2 1\n",
    "#5 4 3 2 1\n",
    "n = int(input(\"enter the total number of rows:\"))\n",
    "d = 1\n",
    "c = 1\n",
    "for i in  range(1,n+1):\n",
    "    for j in range(i,n+1):\n",
    "        print(\" \",end=\" \")\n",
    "    for k in range(1, i+1):\n",
    "        print(d,end=\" \")\n",
    "        d -= 1\n",
    "    c += 1\n",
    "    d = c\n",
    "    print()"
   ]
  },
  {
   "cell_type": "code",
   "execution_count": null,
   "id": "4f7ca3d9-387d-4e04-bc66-6fc8efb67c86",
   "metadata": {},
   "outputs": [],
   "source": [
    "#102. Write a program to print the following triangle.\n",
    "#        5\n",
    "#      4 5\n",
    "#    3 4 5\n",
    "#  2 3 4 5\n",
    "#1 2 3 4 5\n",
    "n = int(input(\"enter the total number of rows:\"))\n",
    "for i in range(n):\n",
    "    for j in range(n-i-1):\n",
    "        print(\" \",end=\" \")\n",
    "    for j in range(i,-1,-1):\n",
    "        print(n-j,end=\" \")\n",
    "    print()"
   ]
  },
  {
   "cell_type": "code",
   "execution_count": null,
   "id": "c1382b38-24eb-44c4-bd68-ad24a1ba7a96",
   "metadata": {},
   "outputs": [],
   "source": [
    "#103. Write a program to print the following triangle.\n",
    "#        1\n",
    "#      2 2\n",
    "#    3 3 3\n",
    "#  4 4 4 4\n",
    "#5 5 5 5 5\n",
    "n = int(input(\"enter the total number of rows:\"))\n",
    "for i in range(0, n):\n",
    "    for j in range(n,i,-1):\n",
    "        print(\" \",end=\" \")\n",
    "    for k in range(i,-1,-1):\n",
    "        print(j,end=\" \")\n",
    "    print()"
   ]
  },
  {
   "cell_type": "code",
   "execution_count": null,
   "id": "400a5b05-81d2-49ec-937f-9588182986c9",
   "metadata": {},
   "outputs": [],
   "source": [
    "#104. Write a program to print the following triangle.\n",
    "#5\n",
    "#4 4\n",
    "#3 3 3\n",
    "#2 2 2 2\n",
    "#1 1 1 1 1\n",
    "n = int(input(\"enter the number of rows:\"))\n",
    "for i in range(n,0,-1):\n",
    "    for j in range(i,6):\n",
    "        print(i,end=\" \")\n",
    "    print()"
   ]
  },
  {
   "cell_type": "code",
   "execution_count": null,
   "id": "fd61b269-5f97-4d28-98d9-b8a459a9ea9c",
   "metadata": {},
   "outputs": [],
   "source": [
    "#105. Write a program to print the following triangle.\n",
    "#        5\n",
    "#      4 4\n",
    "#    3 3 3\n",
    "#  2 2 2 2\n",
    "#1 1 1 1 1\n",
    "n = int(input(\"enter the total number of rows:\"))\n",
    "for i in range(0, n):\n",
    "    for j in range(n,i,-1):\n",
    "        print(\"*\",end=\" \")\n",
    "    for k in range(i,-1,-1):\n",
    "        print(j,end=\" \")\n",
    "    print()\n",
    "\n",
    "        "
   ]
  }
 ],
 "metadata": {
  "interpreter": {
   "hash": "6e6b9e3406eaab5aa75557b0fc2560eb517d17292432c491b68b4d6a354a5516"
  },
  "kernelspec": {
   "display_name": "Python 3.9.7 ('base')",
   "language": "python",
   "name": "python3"
  },
  "language_info": {
   "codemirror_mode": {
    "name": "ipython",
    "version": 3
   },
   "file_extension": ".py",
   "mimetype": "text/x-python",
   "name": "python",
   "nbconvert_exporter": "python",
   "pygments_lexer": "ipython3",
   "version": "3.9.7"
  }
 },
 "nbformat": 4,
 "nbformat_minor": 5
}
