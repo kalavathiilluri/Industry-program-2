{
 "cells": [
  {
   "cell_type": "code",
   "execution_count": null,
   "id": "3adeed9c",
   "metadata": {},
   "outputs": [],
   "source": [
    "# 2.write a program to multiply and divide two numbers.\n",
    "#multiply\n",
    "x = 18\n",
    "y = 4\n",
    "print(x*y)\n",
    "\n",
    "#divide\n",
    "x = 18\n",
    "y = 2\n",
    "print(x/y)"
   ]
  },
  {
   "cell_type": "code",
   "execution_count": null,
   "id": "32657124",
   "metadata": {},
   "outputs": [],
   "source": [
    "#1.write a program to add and subtract two numbers.\n",
    "#add\n",
    "a = 20\n",
    "b = 30\n",
    "print(a+b)\n",
    "\n",
    "#subtract\n",
    "a = 20\n",
    "b = 30\n",
    "print(a-b)"
   ]
  },
  {
   "cell_type": "code",
   "execution_count": null,
   "id": "1605c8aa",
   "metadata": {},
   "outputs": [],
   "source": [
    "# 3.write a program to find the square and cube of a give number.\n",
    "g = 2 * 2\n",
    "print(g)\n",
    "g = 6 ** 2\n",
    "print(g)\n",
    "g = 3 ** 3\n",
    "print(g)\n",
    "g = 5 ** 3\n",
    "print(g)\n",
    "\n"
   ]
  },
  {
   "cell_type": "code",
   "execution_count": null,
   "id": "f9ebdaef",
   "metadata": {},
   "outputs": [],
   "source": [
    "# 4.write a program to find the square root of a given number.\n",
    "x = 16\n",
    "y = x ** 0.5\n",
    "print(y)"
   ]
  }
 ],
 "metadata": {
  "kernelspec": {
   "display_name": "Python 3 (ipykernel)",
   "language": "python",
   "name": "python3"
  },
  "language_info": {
   "codemirror_mode": {
    "name": "ipython",
    "version": 3
   },
   "file_extension": ".py",
   "mimetype": "text/x-python",
   "name": "python",
   "nbconvert_exporter": "python",
   "pygments_lexer": "ipython3",
   "version": "3.9.12"
  }
 },
 "nbformat": 4,
 "nbformat_minor": 5
}
